{
  "nbformat": 4,
  "nbformat_minor": 0,
  "metadata": {
    "colab": {
      "provenance": [],
      "gpuType": "T4",
      "authorship_tag": "ABX9TyPoovZ8Kyrl2wjwS/wUnXlo",
      "include_colab_link": true
    },
    "kernelspec": {
      "name": "python3",
      "display_name": "Python 3"
    },
    "language_info": {
      "name": "python"
    },
    "accelerator": "GPU"
  },
  "cells": [
    {
      "cell_type": "markdown",
      "metadata": {
        "id": "view-in-github",
        "colab_type": "text"
      },
      "source": [
        "<a href=\"https://colab.research.google.com/github/sakshisinghh28/Recommendation-system./blob/main/MovieRecommendation.ipynb\" target=\"_parent\"><img src=\"https://colab.research.google.com/assets/colab-badge.svg\" alt=\"Open In Colab\"/></a>"
      ]
    },
    {
      "cell_type": "code",
      "execution_count": 1,
      "metadata": {
        "colab": {
          "base_uri": "https://localhost:8080/"
        },
        "id": "dY4vEN8BMYO9",
        "outputId": "59f6538c-dd62-4f67-ee53-a4bd8e08abe5"
      },
      "outputs": [
        {
          "output_type": "stream",
          "name": "stdout",
          "text": [
            "Mounted at /content/drive\n"
          ]
        }
      ],
      "source": [
        "from google.colab import drive\n",
        "drive.mount('/content/drive')"
      ]
    },
    {
      "cell_type": "code",
      "source": [
        "!unzip -uq \"/content/drive/My Drive/archive.zip\" -d \"/content/drive/My Drive/Movie\""
      ],
      "metadata": {
        "id": "aFAVO4jFX0-7"
      },
      "execution_count": 2,
      "outputs": []
    },
    {
      "cell_type": "code",
      "source": [
        "!ls \"/content/drive/My Drive/Movie/ml-100k\"\n"
      ],
      "metadata": {
        "colab": {
          "base_uri": "https://localhost:8080/"
        },
        "id": "x4S4om1OZ0mU",
        "outputId": "c1b9639e-0b54-4fc2-dca1-0ec754b76ae8"
      },
      "execution_count": 5,
      "outputs": [
        {
          "output_type": "stream",
          "name": "stdout",
          "text": [
            "allbut.pl  u1.base  u2.test  u4.base  u5.test  ub.base\tu.genre  u.occupation\n",
            "mku.sh\t   u1.test  u3.base  u4.test  ua.base  ub.test\tu.info\t u.user\n",
            "README\t   u2.base  u3.test  u5.base  ua.test  u.data\tu.item\n"
          ]
        }
      ]
    },
    {
      "cell_type": "code",
      "source": [
        "from pathlib import Path\n",
        "import pandas as pd\n",
        "\n",
        "# Update the path to your dataset location\n",
        "path = Path('/content/drive/MyDrive/Movie/ml-100k')\n",
        "\n",
        "# List of data files\n",
        "data_files = ['u.data', 'u.item', 'u.user', 'u.genre', 'u.occupation',\n",
        "              'u1.base', 'u1.test', 'u2.base', 'u2.test',\n",
        "              'u3.base', 'u3.test', 'u4.base', 'u4.test',\n",
        "              'u5.base', 'u5.test', 'ua.base', 'ua.test',\n",
        "              'ub.base', 'ub.test', 'u.info']\n",
        "\n",
        "# Dictionary to store DataFrames\n",
        "dfs = {}\n",
        "\n",
        "# Load each dataset into respective DataFrames\n",
        "for file in data_files:\n",
        "    key = file.split('.')[0].replace('-', '_')\n",
        "\n",
        "    try:\n",
        "        if file == 'u.data':\n",
        "            dfs['u_data'] = pd.read_csv(path / file, delimiter='\\t', encoding='latin-1', header=None, names=['userId', 'itemId', 'rating'], usecols=(0,1,2))\n",
        "        else:\n",
        "            dfs[key] = pd.read_csv(path / file, delimiter='|' if file != 'u.data' else '\\t', encoding='latin-1')\n",
        "\n",
        "        print(f\"Loaded {file} successfully.\")\n",
        "\n",
        "    except pd.errors.ParserError as e:\n",
        "        print(f\"ParserError: Failed to read {file} - {e}\")\n",
        "\n",
        "    except Exception as e:\n",
        "        print(f\"Error: {e} - {file} not loaded.\")\n",
        "\n",
        "# Display the first few rows of the 'u_data' DataFrame if loaded successfully\n",
        "if 'u_data' in dfs and isinstance(dfs['u_data'], pd.DataFrame):\n",
        "    print(dfs['u_data'].head())\n",
        "else:\n",
        "    print(\"Warning: 'u_data' not loaded successfully or not a DataFrame.\")\n",
        "\n",
        "# Optionally, print loaded keys for verification\n",
        "print(\"Loaded keys:\", list(dfs.keys()))\n"
      ],
      "metadata": {
        "colab": {
          "base_uri": "https://localhost:8080/"
        },
        "id": "tybVy8aCbsQl",
        "outputId": "8d48b351-453d-4fdc-c52c-54cf237d0420"
      },
      "execution_count": 16,
      "outputs": [
        {
          "output_type": "stream",
          "name": "stdout",
          "text": [
            "Loaded u.data successfully.\n",
            "Loaded u.item successfully.\n",
            "Loaded u.user successfully.\n",
            "Loaded u.genre successfully.\n",
            "Loaded u.occupation successfully.\n",
            "Loaded u1.base successfully.\n",
            "Loaded u1.test successfully.\n",
            "Loaded u2.base successfully.\n",
            "Loaded u2.test successfully.\n",
            "Loaded u3.base successfully.\n",
            "Loaded u3.test successfully.\n",
            "Loaded u4.base successfully.\n",
            "Loaded u4.test successfully.\n",
            "Loaded u5.base successfully.\n",
            "Loaded u5.test successfully.\n",
            "Loaded ua.base successfully.\n",
            "Loaded ua.test successfully.\n",
            "Loaded ub.base successfully.\n",
            "Loaded ub.test successfully.\n",
            "Loaded u.info successfully.\n",
            "   userId  itemId  rating\n",
            "0     196     242       3\n",
            "1     186     302       3\n",
            "2      22     377       1\n",
            "3     244      51       2\n",
            "4     166     346       1\n",
            "Loaded keys: ['u_data', 'u', 'u1', 'u2', 'u3', 'u4', 'u5', 'ua', 'ub']\n"
          ]
        }
      ]
    },
    {
      "cell_type": "code",
      "source": [
        "from sklearn.neighbors import NearestNeighbors\n",
        "import pandas as pd\n",
        "\n",
        "\n",
        "# Example of constructing a user-item matrix (pivot table)\n",
        "u_data = dfs['u_data']\n",
        "\n",
        "user_item_matrix = u_data.pivot(index='userId', columns='itemId', values='rating').fillna(0)\n",
        "\n",
        "# Initialize NearestNeighbors model\n",
        "k = 5  # Number of neighbors to consider\n",
        "model_knn = NearestNeighbors(metric='cosine', algorithm='brute', n_neighbors=k)\n",
        "\n",
        "# Fit the model with the user-item matrix\n",
        "model_knn.fit(user_item_matrix.values)\n",
        "\n",
        "# Example of getting nearest neighbors for a user (e.g., userId 1)\n",
        "user_id = 1\n",
        "user_ratings = user_item_matrix.loc[user_id].values.reshape(1, -1)\n",
        "distances, indices = model_knn.kneighbors(user_ratings, n_neighbors=k+1)\n",
        "\n",
        "# Recommend items for the user based on neighbors\n",
        "similar_users = user_item_matrix.iloc[indices.flatten()[1:]]\n",
        "predicted_ratings = similar_users.mean(axis=0)\n",
        "\n",
        "# Print recommended items with the highest predicted ratings\n",
        "recommended_items = predicted_ratings.sort_values(ascending=False).index.tolist()\n",
        "print(f\"Recommended items for user {user_id}: {recommended_items}\")\n"
      ],
      "metadata": {
        "colab": {
          "base_uri": "https://localhost:8080/"
        },
        "id": "Nsr6QN5qarAI",
        "outputId": "a7acdcb1-077e-408f-aa16-8e5f216547fd"
      },
      "execution_count": 18,
      "outputs": [
        {
          "output_type": "stream",
          "name": "stdout",
          "text": [
            "Recommended items for user 1: [50, 174, 56, 98, 176, 172, 12, 11, 181, 203, 96, 195, 173, 168, 7, 100, 183, 1, 228, 433, 234, 153, 474, 31, 144, 169, 4, 273, 64, 219, 265, 134, 250, 268, 210, 79, 91, 55, 82, 246, 89, 239, 204, 566, 159, 186, 235, 9, 69, 222, 182, 72, 71, 217, 238, 73, 121, 226, 179, 223, 117, 257, 684, 58, 382, 403, 52, 655, 53, 732, 194, 208, 42, 22, 227, 191, 218, 288, 715, 196, 184, 546, 200, 164, 24, 2, 318, 568, 157, 156, 154, 190, 483, 109, 209, 202, 201, 28, 527, 735, 161, 258, 561, 559, 135, 781, 385, 25, 405, 423, 95, 132, 679, 123, 582, 188, 125, 286, 48, 230, 276, 294, 67, 68, 54, 367, 249, 81, 151, 216, 451, 229, 408, 640, 425, 215, 475, 357, 729, 1073, 562, 171, 636, 597, 628, 531, 214, 399, 180, 402, 198, 1016, 8, 124, 39, 88, 62, 49, 5, 111, 92, 421, 127, 77, 386, 930, 333, 175, 470, 211, 86, 97, 83, 189, 652, 713, 290, 710, 143, 160, 163, 569, 825, 237, 116, 87, 29, 550, 206, 685, 578, 436, 583, 721, 85, 763, 790, 13, 466, 541, 755, 432, 252, 70, 708, 1074, 742, 193, 658, 665, 313, 232, 356, 317, 231, 673, 693, 343, 241, 298, 919, 245, 80, 717, 720, 404, 393, 727, 431, 1109, 167, 746, 747, 128, 588, 118, 401, 114, 1208, 631, 101, 381, 780, 472, 380, 596, 65, 47, 15, 651, 462, 509, 511, 768, 789, 642, 307, 800, 63, 284, 480, 60, 38, 709, 471, 496, 748, 328, 40, 756, 51, 44, 762, 674, 476, 577, 106, 549, 233, 10, 627, 94, 225, 271, 212, 137, 66, 108, 17, 558, 926, 484, 672, 1079, 244, 428, 663, 660, 678, 23, 993, 697, 177, 831, 178, 136, 1101, 1194, 46, 778, 410, 199, 591, 554, 581, 122, 33, 501, 961, 1268, 291, 1046, 1014, 722, 455, 145, 443, 792, 369, 523, 93, 479, 147, 358, 1098, 185, 1011, 148, 473, 1044, 528, 391, 411, 394, 115, 282, 155, 603, 90, 737, 240, 955, 260, 943, 619, 939, 427, 928, 248, 21, 1047, 506, 3, 609, 435, 1401, 1217, 1135, 364, 1119, 576, 824, 1228, 704, 384, 76, 1042, 409, 281, 43, 587, 845, 418, 823, 102, 692, 834, 625, 702, 99, 129, 743, 264, 794, 797, 728, 406, 736, 430, 449, 739, 412, 133, 465, 141, 802, 949, 826, 302, 508, 654, 963, 518, 946, 542, 331, 1090, 512, 59, 841, 855, 283, 1215, 45, 552, 205, 27, 105, 1009, 14, 376, 366, 526, 515, 456, 521, 520, 630, 1335, 637, 557, 530, 650, 461, 500, 659, 707, 537, 463, 30, 593, 525, 152, 718, 295, 275, 1039, 1037, 1033, 1028, 1018, 1012, 61, 1010, 947, 299, 1005, 304, 977, 971, 969, 966, 960, 274, 1041, 269, 1065, 158, 1113, 170, 1142, 139, 187, 192, 120, 197, 1103, 213, 1216, 221, 236, 1095, 1070, 1069, 959, 363, 324, 349, 767, 1240, 786, 751, 150, 805, 419, 806, 820, 1231, 420, 387, 731, 944, 770, 1220, 1118, 764, 761, 752, 595, 580, 1212, 1211, 1303, 1157, 585, 1110, 1284, 1597, 712, 1207, 620, 584, 741, 734, 1204, 1248, 1188, 1210, 1225, 622, 844, 953, 925, 924, 895, 675, 892, 978, 980, 885, 998, 866, 863, 846, 725, 1428, 783, 696, 1446, 635, 699, 801, 1531, 1040, 785, 1059, 629, 1552, 1061, 951, 623, 649, 1682, 540, 254, 255, 256, 259, 267, 278, 289, 321, 322, 535, 325, 327, 354, 370, 392, 396, 422, 441, 504, 444, 447, 448, 450, 452, 498, 467, 544, 477, 570, 149, 16, 32, 140, 37, 78, 563, 567, 1273, 765, 395, 1091, 397, 374, 373, 1249, 810, 818, 1314, 434, 413, 417, 738, 1413, 1419, 1425, 1476, 1477, 453, 716, 821, 840, 351, 687, 575, 1052, 1133, 1035, 1034, 280, 1023, 1206, 300, 986, 984, 983, 974, 1112, 972, 1213, 1214, 948, 84, 1222, 941, 940, 934, 931, 929, 338, 574, 1128, 551, 572, 571, 616, 771, 1411, 758, 981, 1209, 760, 368, 243, 1151, 862, 388, 383, 1291, 1412, 775, 407, 922, 860, 1185, 579, 573, 1002, 1140, 1049, 424, 1178, 162, 890, 719, 220, 1054, 379, 1348, 1355, 1349, 1350, 1351, 1352, 1353, 1354, 1356, 1357, 1358, 1359, 1360, 1347, 1340, 1346, 1329, 1316, 1317, 1318, 1319, 1320, 1321, 1322, 1323, 1324, 1325, 1326, 1327, 1328, 1330, 1345, 1331, 1332, 1333, 1334, 560, 1336, 1337, 1338, 1339, 1341, 1342, 1343, 1344, 1361, 1369, 1362, 1409, 1396, 1397, 1398, 1399, 1400, 26, 1402, 1403, 1404, 1405, 1406, 1407, 1408, 1410, 1363, 564, 1414, 1415, 1416, 1417, 1418, 565, 1420, 1421, 1422, 1423, 1424, 1426, 1395, 1394, 1393, 1392, 1364, 1365, 1366, 1367, 1368, 1370, 1371, 1372, 1373, 1374, 1375, 1376, 1377, 1378, 1379, 1380, 1381, 1382, 1383, 1384, 1385, 1386, 1387, 1388, 1389, 1390, 1391, 1315, 666, 586, 1236, 1223, 1224, 75, 1226, 1227, 74, 1229, 1230, 57, 1232, 1233, 1234, 1235, 1237, 1313, 1238, 1239, 41, 1241, 1242, 1243, 1244, 1245, 1246, 1247, 589, 555, 1250, 590, 1221, 553, 1219, 1190, 1191, 1192, 1193, 130, 1195, 1196, 1197, 1198, 1199, 1200, 1201, 1202, 1203, 126, 1205, 548, 119, 113, 112, 110, 107, 594, 104, 103, 592, 1218, 1251, 1252, 1253, 35, 1286, 1287, 1288, 1289, 1290, 1292, 1293, 1294, 1295, 1296, 1297, 1298, 1299, 1300, 1301, 1302, 34, 1304, 1305, 20, 1306, 1307, 1308, 1309, 1310, 1311, 1312, 1285, 1283, 1254, 1282, 1255, 1256, 1257, 1258, 1259, 1260, 1261, 1262, 1263, 1264, 1265, 1266, 1267, 36, 1269, 1270, 1271, 1272, 556, 1274, 1275, 1276, 1277, 1278, 1279, 1280, 1281, 1427, 1437, 1429, 1604, 1591, 1592, 1593, 1594, 1595, 1596, 6, 1598, 1599, 1600, 1601, 1602, 1603, 1605, 1620, 1606, 1607, 1608, 1609, 1610, 1611, 1612, 1613, 1614, 1615, 1616, 1617, 1618, 1590, 1589, 1588, 1587, 1560, 1561, 1562, 1563, 1564, 1565, 1566, 1567, 1568, 1569, 1570, 1571, 1572, 1573, 1574, 1575, 1576, 1577, 1578, 1579, 1580, 1581, 1582, 1583, 1584, 1585, 1586, 1619, 1621, 1558, 1667, 1654, 1655, 1656, 1657, 1658, 1659, 1660, 1661, 1662, 1663, 1664, 1665, 1666, 1668, 1622, 1669, 1670, 1671, 1672, 1673, 1674, 1675, 1676, 1677, 1678, 1679, 1680, 1681, 1653, 1652, 1651, 1650, 1623, 1624, 1625, 1626, 1627, 1628, 1629, 1630, 1631, 1632, 1633, 1634, 1635, 1636, 1637, 1638, 1639, 1640, 1641, 1642, 1643, 1644, 1645, 1646, 1647, 1648, 1649, 1559, 1557, 1430, 1475, 1462, 1463, 1464, 1465, 1466, 1467, 1468, 1469, 1470, 1471, 1472, 1473, 1474, 1478, 1493, 1479, 1480, 1481, 1482, 1483, 1484, 1485, 1486, 1487, 1488, 1489, 1490, 1491, 1461, 1460, 1459, 1458, 1431, 1432, 1433, 1434, 1435, 1436, 131, 1438, 1439, 1440, 1441, 1442, 1443, 1444, 1445, 19, 1447, 1448, 1449, 1450, 1451, 1452, 1453, 1454, 1455, 1456, 1457, 1492, 1494, 1556, 1540, 1527, 1528, 1529, 1530, 18, 1532, 1533, 1534, 1535, 1536, 1537, 1538, 1539, 1541, 1495, 1542, 1543, 1544, 1545, 1546, 1547, 1548, 1549, 1550, 1551, 1553, 1554, 1555, 1526, 1525, 1524, 1523, 1496, 1497, 1498, 1499, 1500, 1501, 1502, 1503, 1504, 1505, 1506, 1507, 1508, 1509, 1510, 1511, 1512, 1513, 1514, 1515, 1516, 1517, 1518, 1519, 1520, 1521, 1522, 1189, 1174, 1187, 832, 522, 835, 836, 837, 838, 839, 634, 350, 348, 843, 347, 346, 345, 847, 848, 849, 850, 851, 852, 853, 854, 344, 856, 857, 858, 859, 861, 833, 352, 864, 830, 803, 804, 362, 361, 807, 808, 809, 639, 811, 812, 813, 814, 815, 816, 817, 638, 819, 360, 517, 822, 359, 355, 519, 353, 827, 828, 829, 342, 865, 516, 897, 899, 900, 901, 902, 903, 904, 905, 906, 907, 908, 909, 910, 911, 912, 913, 914, 915, 916, 917, 918, 337, 920, 921, 923, 336, 335, 334, 898, 896, 341, 633, 867, 868, 869, 870, 871, 872, 873, 874, 875, 876, 877, 878, 879, 880, 881, 882, 883, 884, 340, 886, 887, 888, 889, 891, 339, 893, 894, 365, 799, 1186, 481, 478, 700, 701, 664, 703, 469, 705, 706, 468, 497, 464, 460, 711, 459, 458, 714, 457, 662, 454, 661, 499, 502, 657, 723, 724, 656, 726, 698, 482, 445, 695, 668, 669, 670, 671, 494, 493, 492, 491, 676, 677, 490, 489, 680, 681, 682, 683, 488, 487, 686, 495, 688, 689, 690, 691, 486, 485, 694, 446, 503, 798, 646, 766, 644, 643, 769, 390, 772, 773, 774, 776, 777, 389, 779, 782, 784, 378, 377, 787, 788, 375, 514, 791, 641, 793, 372, 795, 796, 371, 645, 647, 730, 398, 442, 653, 733, 440, 439, 438, 437, 505, 507, 740, 429, 426, 744, 745, 510, 513, 416, 749, 750, 415, 414, 753, 754, 648, 757, 759, 400, 927, 332, 632, 1088, 601, 1092, 1093, 1094, 242, 1096, 1097, 224, 1099, 1100, 1102, 207, 1104, 1105, 1106, 1107, 1108, 166, 165, 1111, 600, 1114, 1115, 1116, 1117, 599, 146, 1089, 1087, 1121, 1086, 261, 1060, 606, 1062, 1063, 1064, 605, 1066, 1067, 1068, 604, 602, 1071, 1072, 253, 251, 1075, 1076, 1077, 1078, 247, 1080, 1081, 1082, 1083, 1084, 1085, 1120, 1122, 330, 1155, 138, 1158, 1159, 1160, 1161, 1162, 1163, 1164, 1165, 1166, 1167, 1168, 1169, 1170, 1171, 1172, 1173, 667, 1175, 1176, 1177, 1179, 1180, 1181, 1182, 1183, 1184, 1156, 1154, 1123, 1153, 1124, 1125, 1126, 1127, 598, 1129, 1130, 1131, 1132, 545, 1134, 142, 1136, 1137, 1138, 1139, 1141, 547, 1143, 1144, 1145, 1146, 1147, 1148, 1149, 1150, 1152, 1058, 1057, 1056, 315, 962, 312, 964, 965, 311, 967, 968, 310, 970, 309, 621, 973, 539, 975, 976, 308, 306, 979, 305, 982, 618, 617, 985, 987, 988, 989, 990, 314, 316, 1055, 958, 524, 932, 933, 529, 935, 936, 937, 938, 329, 532, 533, 942, 534, 326, 945, 626, 323, 624, 536, 950, 538, 952, 320, 954, 319, 956, 957, 991, 992, 303, 994, 1026, 1027, 612, 1029, 1030, 1031, 1032, 279, 611, 610, 1036, 543, 1038, 277, 272, 270, 608, 1043, 266, 1045, 263, 262, 1048, 1050, 1051, 607, 1053, 1025, 1024, 613, 1008, 995, 996, 997, 301, 999, 1000, 1001, 1003, 1004, 615, 1006, 1007, 297, 1022, 296, 293, 292, 1013, 614, 1015, 287, 1017, 285, 1019, 1020, 1021, 842]\n"
          ]
        }
      ]
    },
    {
      "cell_type": "code",
      "source": [
        "!pip install surprise"
      ],
      "metadata": {
        "colab": {
          "base_uri": "https://localhost:8080/"
        },
        "id": "2wSSkO82bnGH",
        "outputId": "bee4de8b-2f1c-4211-86a0-a31f111b6e2b"
      },
      "execution_count": 20,
      "outputs": [
        {
          "output_type": "stream",
          "name": "stdout",
          "text": [
            "Collecting surprise\n",
            "  Downloading surprise-0.1-py2.py3-none-any.whl (1.8 kB)\n",
            "Collecting scikit-surprise (from surprise)\n",
            "  Downloading scikit_surprise-1.1.4.tar.gz (154 kB)\n",
            "\u001b[2K     \u001b[90m━━━━━━━━━━━━━━━━━━━━━━━━━━━━━━━━━━━━━━━━\u001b[0m \u001b[32m154.4/154.4 kB\u001b[0m \u001b[31m3.6 MB/s\u001b[0m eta \u001b[36m0:00:00\u001b[0m\n",
            "\u001b[?25h  Installing build dependencies ... \u001b[?25l\u001b[?25hdone\n",
            "  Getting requirements to build wheel ... \u001b[?25l\u001b[?25hdone\n",
            "  Preparing metadata (pyproject.toml) ... \u001b[?25l\u001b[?25hdone\n",
            "Requirement already satisfied: joblib>=1.2.0 in /usr/local/lib/python3.10/dist-packages (from scikit-surprise->surprise) (1.4.2)\n",
            "Requirement already satisfied: numpy>=1.19.5 in /usr/local/lib/python3.10/dist-packages (from scikit-surprise->surprise) (1.25.2)\n",
            "Requirement already satisfied: scipy>=1.6.0 in /usr/local/lib/python3.10/dist-packages (from scikit-surprise->surprise) (1.11.4)\n",
            "Building wheels for collected packages: scikit-surprise\n",
            "  Building wheel for scikit-surprise (pyproject.toml) ... \u001b[?25l\u001b[?25hdone\n",
            "  Created wheel for scikit-surprise: filename=scikit_surprise-1.1.4-cp310-cp310-linux_x86_64.whl size=2357237 sha256=26aa4fc77c40f1b49a4c7c5201e1f4b064ebaaf0a97e2444b03fe9f9ead60e11\n",
            "  Stored in directory: /root/.cache/pip/wheels/4b/3f/df/6acbf0a40397d9bf3ff97f582cc22fb9ce66adde75bc71fd54\n",
            "Successfully built scikit-surprise\n",
            "Installing collected packages: scikit-surprise, surprise\n",
            "Successfully installed scikit-surprise-1.1.4 surprise-0.1\n"
          ]
        }
      ]
    },
    {
      "cell_type": "code",
      "source": [
        "# Check the columns in your DataFrame\n",
        "print(df.columns)\n",
        "\n",
        "# Verify the presence of required columns\n",
        "if 'userId' in df.columns and 'movieId' in df.columns and 'rating' in df.columns:\n",
        "    # Proceed with loading data into Surprise's Dataset\n",
        "    reader = Reader(rating_scale=(1, 5))\n",
        "    data = Dataset.load_from_df(df[['userId', 'movieId', 'rating']], reader)\n",
        "else:\n",
        "    print(\"Required columns ('userId', 'movieId', 'rating') not found in DataFrame.\")\n"
      ],
      "metadata": {
        "colab": {
          "base_uri": "https://localhost:8080/"
        },
        "id": "IgGksdVmcueG",
        "outputId": "1ac0619d-2441-4b94-c991-aab5635faf9d"
      },
      "execution_count": 22,
      "outputs": [
        {
          "output_type": "stream",
          "name": "stdout",
          "text": [
            "Index(['userId', 'itemId', 'rating', 'timestamp'], dtype='object')\n",
            "Required columns ('userId', 'movieId', 'rating') not found in DataFrame.\n"
          ]
        }
      ]
    },
    {
      "cell_type": "code",
      "source": [
        "from surprise import KNNBasic, Dataset, Reader\n",
        "import numpy as np\n",
        "\n",
        "# Assuming 'df' is your DataFrame containing userId, itemId, and rating columns\n",
        "\n",
        "# Load the data from the DataFrame into Surprise's Dataset format\n",
        "reader = Reader(rating_scale=(1, 5))\n",
        "data = Dataset.load_from_df(df[['userId', 'itemId', 'rating']], reader)\n",
        "\n",
        "# Use the KNNBasic algorithm\n",
        "sim_options = {\n",
        "    'name': 'cosine',  # Use cosine similarity\n",
        "    'user_based': False  # Item-based collaborative filtering\n",
        "}\n",
        "knn_model = KNNBasic(sim_options=sim_options)\n",
        "\n",
        "# Train the model on the dataset\n",
        "trainset = data.build_full_trainset()\n",
        "knn_model.fit(trainset)\n",
        "\n",
        "# Example: Get top 10 item recommendations for a specific user\n",
        "user_id = 1  # Replace with the user ID for whom you want recommendations\n",
        "top_n = 3  # Number of recommendations to get\n",
        "\n",
        "# Get the list of all item IDs\n",
        "all_item_ids = df['itemId'].unique()\n",
        "\n",
        "# Remove items that the user has already rated\n",
        "items_rated_by_user = df[df['userId'] == user_id]['itemId'].unique()\n",
        "items_to_predict = np.setdiff1d(all_item_ids, items_rated_by_user)\n",
        "\n",
        "# Predict ratings for items that the user hasn't rated\n",
        "testset = [[user_id, item_id, 4.] for item_id in items_to_predict]  # Use a placeholder rating (e.g., 4.0)\n",
        "predictions = knn_model.test(testset)\n",
        "\n",
        "# Sort predictions by estimated rating in descending order\n",
        "predictions.sort(key=lambda x: x.est, reverse=True)\n",
        "\n",
        "# Extract top N item IDs from the sorted predictions\n",
        "top_item_ids = [int(pred.iid) for pred in predictions[:top_n]]\n",
        "\n",
        "# Print the top N recommended item IDs\n",
        "print(f\"Top {top_n} recommended item IDs for user {user_id}: {top_item_ids}\")\n"
      ],
      "metadata": {
        "colab": {
          "base_uri": "https://localhost:8080/"
        },
        "id": "xwKZ7sScbMgW",
        "outputId": "2f848fa6-de0e-4c09-948f-8e8886fd1986"
      },
      "execution_count": 25,
      "outputs": [
        {
          "output_type": "stream",
          "name": "stdout",
          "text": [
            "Computing the cosine similarity matrix...\n",
            "Done computing similarity matrix.\n",
            "Top 3 recommended item IDs for user 1: [242, 302, 377]\n"
          ]
        }
      ]
    },
    {
      "cell_type": "code",
      "source": [
        "from surprise.model_selection import train_test_split\n",
        "\n",
        "# Assuming 'data' is your Surprise Dataset object\n",
        "trainset, testset = train_test_split(data, test_size=0.2, random_state=42)\n"
      ],
      "metadata": {
        "id": "vkP7a08mdszY"
      },
      "execution_count": 26,
      "outputs": []
    },
    {
      "cell_type": "code",
      "source": [
        "from surprise import KNNBasic\n",
        "\n",
        "# Example configuration for KNNBasic\n",
        "sim_options = {\n",
        "    'name': 'cosine',  # Use cosine similarity\n",
        "    'user_based': False  # Item-based collaborative filtering\n",
        "}\n",
        "knn_model = KNNBasic(sim_options=sim_options)\n",
        "\n",
        "# Train the model on the training set\n",
        "knn_model.fit(trainset)\n"
      ],
      "metadata": {
        "colab": {
          "base_uri": "https://localhost:8080/"
        },
        "id": "DZmTGAwAdu2Y",
        "outputId": "a7ab347b-dc37-41e6-9fcd-0b3a75146c88"
      },
      "execution_count": 27,
      "outputs": [
        {
          "output_type": "stream",
          "name": "stdout",
          "text": [
            "Computing the cosine similarity matrix...\n",
            "Done computing similarity matrix.\n"
          ]
        },
        {
          "output_type": "execute_result",
          "data": {
            "text/plain": [
              "<surprise.prediction_algorithms.knns.KNNBasic at 0x7998ac6b9150>"
            ]
          },
          "metadata": {},
          "execution_count": 27
        }
      ]
    },
    {
      "cell_type": "code",
      "source": [
        "# Get predictions for the test set\n",
        "predictions = knn_model.test(testset)\n"
      ],
      "metadata": {
        "id": "93r2rkO4dzu2"
      },
      "execution_count": 28,
      "outputs": []
    },
    {
      "cell_type": "code",
      "source": [
        "from surprise import accuracy\n",
        "\n",
        "# Compute RMSE\n",
        "rmse = accuracy.rmse(predictions)\n",
        "\n",
        "# Compute MAE\n",
        "mae = accuracy.mae(predictions)\n",
        "\n",
        "print(f\"RMSE: {rmse}\")\n",
        "print(f\"MAE: {mae}\")\n"
      ],
      "metadata": {
        "colab": {
          "base_uri": "https://localhost:8080/"
        },
        "id": "1KxUYNN5d2Re",
        "outputId": "98f14050-2bfc-471d-fb45-5fcd1a279b60"
      },
      "execution_count": 29,
      "outputs": [
        {
          "output_type": "stream",
          "name": "stdout",
          "text": [
            "RMSE: 2.0000\n",
            "MAE:  2.0000\n",
            "RMSE: 2.0\n",
            "MAE: 2.0\n"
          ]
        }
      ]
    },
    {
      "cell_type": "code",
      "source": [
        "from surprise.model_selection import cross_validate\n",
        "\n",
        "# Perform cross-validation with a lower number of folds\n",
        "results = cross_validate(knn_model, data, measures=['RMSE', 'MAE'], cv=3, verbose=True)\n",
        "\n",
        "# Extract and print average results\n",
        "print(\"Average RMSE:\", np.mean(results['test_rmse']))\n",
        "print(\"Average MAE:\", np.mean(results['test_mae']))\n"
      ],
      "metadata": {
        "colab": {
          "base_uri": "https://localhost:8080/"
        },
        "id": "Dbdj2MTgd5Ye",
        "outputId": "5a19eca0-65d8-43e1-a9e6-9bbc04fc547b"
      },
      "execution_count": 31,
      "outputs": [
        {
          "output_type": "stream",
          "name": "stdout",
          "text": [
            "Computing the cosine similarity matrix...\n",
            "Done computing similarity matrix.\n",
            "Computing the cosine similarity matrix...\n",
            "Done computing similarity matrix.\n",
            "Computing the cosine similarity matrix...\n",
            "Done computing similarity matrix.\n",
            "Evaluating RMSE, MAE of algorithm KNNBasic on 3 split(s).\n",
            "\n",
            "                  Fold 1  Fold 2  Fold 3  Mean    Std     \n",
            "RMSE (testset)    1.0000  2.0000  1.0000  1.3333  0.4714  \n",
            "MAE (testset)     1.0000  2.0000  1.0000  1.3333  0.4714  \n",
            "Fit time          0.00    0.00    0.00    0.00    0.00    \n",
            "Test time         0.00    0.00    0.00    0.00    0.00    \n",
            "Average RMSE: 1.3333333333333333\n",
            "Average MAE: 1.3333333333333333\n"
          ]
        }
      ]
    }
  ]
}