{
  "nbformat": 4,
  "nbformat_minor": 0,
  "metadata": {
    "colab": {
      "provenance": [],
      "authorship_tag": "ABX9TyP36VdOO9JGZclpVRCacTGq",
      "include_colab_link": true
    },
    "kernelspec": {
      "name": "python3",
      "display_name": "Python 3"
    },
    "language_info": {
      "name": "python"
    }
  },
  "cells": [
    {
      "cell_type": "markdown",
      "metadata": {
        "id": "view-in-github",
        "colab_type": "text"
      },
      "source": [
        "<a href=\"https://colab.research.google.com/github/sakshisinghh28/Recommendation-system./blob/main/Preprocessing.ipynb\" target=\"_parent\"><img src=\"https://colab.research.google.com/assets/colab-badge.svg\" alt=\"Open In Colab\"/></a>"
      ]
    },
    {
      "cell_type": "code",
      "source": [
        "!pip install scikit-surprise\n",
        "import pandas as pd\n",
        "from surprise import Dataset, Reader, SVD, dump\n",
        "from surprise.model_selection import train_test_split, cross_validate\n",
        "from sklearn.metrics import r2_score"
      ],
      "metadata": {
        "colab": {
          "base_uri": "https://localhost:8080/"
        },
        "id": "vkwt82tQRYjN",
        "outputId": "f9605c01-e702-4dfe-ca92-4db41f149e86"
      },
      "execution_count": 2,
      "outputs": [
        {
          "output_type": "stream",
          "name": "stdout",
          "text": [
            "Collecting scikit-surprise\n",
            "  Downloading scikit_surprise-1.1.4.tar.gz (154 kB)\n",
            "\u001b[2K     \u001b[90m━━━━━━━━━━━━━━━━━━━━━━━━━━━━━━━━━━━━━━━━\u001b[0m \u001b[32m154.4/154.4 kB\u001b[0m \u001b[31m4.0 MB/s\u001b[0m eta \u001b[36m0:00:00\u001b[0m\n",
            "\u001b[?25h  Installing build dependencies ... \u001b[?25l\u001b[?25hdone\n",
            "  Getting requirements to build wheel ... \u001b[?25l\u001b[?25hdone\n",
            "  Preparing metadata (pyproject.toml) ... \u001b[?25l\u001b[?25hdone\n",
            "Requirement already satisfied: joblib>=1.2.0 in /usr/local/lib/python3.10/dist-packages (from scikit-surprise) (1.4.2)\n",
            "Requirement already satisfied: numpy>=1.19.5 in /usr/local/lib/python3.10/dist-packages (from scikit-surprise) (1.25.2)\n",
            "Requirement already satisfied: scipy>=1.6.0 in /usr/local/lib/python3.10/dist-packages (from scikit-surprise) (1.11.4)\n",
            "Building wheels for collected packages: scikit-surprise\n",
            "  Building wheel for scikit-surprise (pyproject.toml) ... \u001b[?25l\u001b[?25hdone\n",
            "  Created wheel for scikit-surprise: filename=scikit_surprise-1.1.4-cp310-cp310-linux_x86_64.whl size=2357222 sha256=ed7f1466a8b14c2b75ce09375f505eb14cc04327871792afb35d497f34fa7327\n",
            "  Stored in directory: /root/.cache/pip/wheels/4b/3f/df/6acbf0a40397d9bf3ff97f582cc22fb9ce66adde75bc71fd54\n",
            "Successfully built scikit-surprise\n",
            "Installing collected packages: scikit-surprise\n",
            "Successfully installed scikit-surprise-1.1.4\n"
          ]
        }
      ]
    },
    {
      "cell_type": "code",
      "execution_count": 3,
      "metadata": {
        "colab": {
          "base_uri": "https://localhost:8080/"
        },
        "id": "dY4vEN8BMYO9",
        "outputId": "ed5bb84c-893c-42f7-c0b6-9ca04cb52786"
      },
      "outputs": [
        {
          "output_type": "stream",
          "name": "stdout",
          "text": [
            "Mounted at /content/drive\n"
          ]
        }
      ],
      "source": [
        "from google.colab import drive\n",
        "drive.mount('/content/drive')"
      ]
    },
    {
      "cell_type": "code",
      "source": [
        "!unzip -uq \"/content/drive/My Drive/archive.zip\" -d \"/content/drive/My Drive/Movie\""
      ],
      "metadata": {
        "id": "aFAVO4jFX0-7"
      },
      "execution_count": 4,
      "outputs": []
    },
    {
      "cell_type": "code",
      "source": [
        "!ls \"/content/drive/My Drive/Movie\"\n"
      ],
      "metadata": {
        "colab": {
          "base_uri": "https://localhost:8080/"
        },
        "id": "x4S4om1OZ0mU",
        "outputId": "c726be4a-8828-4699-8054-bc13572247f6"
      },
      "execution_count": 5,
      "outputs": [
        {
          "output_type": "stream",
          "name": "stdout",
          "text": [
            "genome_scores.csv  genome_tags.csv  link.csv  movie.csv  rating.csv  tag.csv\n"
          ]
        }
      ]
    },
    {
      "cell_type": "code",
      "source": [
        "import pandas as pd\n",
        "import os\n",
        "\n",
        "# Define the directory path\n",
        "path = \"/content/drive/My Drive/Movie/\"\n",
        "\n",
        "# List the expected file names based on your description\n",
        "expected_files = [\"genome_scores.csv\", \"genome_tags.csv\", \"link.csv\", \"movie.csv\", \"rating.csv\", \"tag.csv\"]\n",
        "\n",
        "# Verify each file exists and load into DataFrame\n",
        "for file_name in expected_files:\n",
        "    file_path = os.path.join(path, file_name)\n",
        "    if os.path.exists(file_path):\n",
        "        df = pd.read_csv(file_path)\n",
        "        print(f\"Loaded {file_name}\")\n",
        "        print(df.head())\n",
        "    else:\n",
        "        print(f\"File {file_name} does not exist in the specified directory.\")\n"
      ],
      "metadata": {
        "colab": {
          "base_uri": "https://localhost:8080/"
        },
        "id": "tybVy8aCbsQl",
        "outputId": "0c4aa24e-8a92-4fcd-fcdb-1ec1ffdb3485"
      },
      "execution_count": 6,
      "outputs": [
        {
          "output_type": "stream",
          "name": "stdout",
          "text": [
            "Loaded genome_scores.csv\n",
            "   movieId  tagId  relevance\n",
            "0        1      1    0.02500\n",
            "1        1      2    0.02500\n",
            "2        1      3    0.05775\n",
            "3        1      4    0.09675\n",
            "4        1      5    0.14675\n",
            "Loaded genome_tags.csv\n",
            "   tagId           tag\n",
            "0      1           007\n",
            "1      2  007 (series)\n",
            "2      3  18th century\n",
            "3      4         1920s\n",
            "4      5         1930s\n",
            "Loaded link.csv\n",
            "   movieId  imdbId   tmdbId\n",
            "0        1  114709    862.0\n",
            "1        2  113497   8844.0\n",
            "2        3  113228  15602.0\n",
            "3        4  114885  31357.0\n",
            "4        5  113041  11862.0\n",
            "Loaded movie.csv\n",
            "   movieId                               title  \\\n",
            "0        1                    Toy Story (1995)   \n",
            "1        2                      Jumanji (1995)   \n",
            "2        3             Grumpier Old Men (1995)   \n",
            "3        4            Waiting to Exhale (1995)   \n",
            "4        5  Father of the Bride Part II (1995)   \n",
            "\n",
            "                                        genres  \n",
            "0  Adventure|Animation|Children|Comedy|Fantasy  \n",
            "1                   Adventure|Children|Fantasy  \n",
            "2                               Comedy|Romance  \n",
            "3                         Comedy|Drama|Romance  \n",
            "4                                       Comedy  \n",
            "Loaded rating.csv\n",
            "   userId  movieId  rating            timestamp\n",
            "0       1        2     3.5  2005-04-02 23:53:47\n",
            "1       1       29     3.5  2005-04-02 23:31:16\n",
            "2       1       32     3.5  2005-04-02 23:33:39\n",
            "3       1       47     3.5  2005-04-02 23:32:07\n",
            "4       1       50     3.5  2005-04-02 23:29:40\n",
            "Loaded tag.csv\n",
            "   userId  movieId            tag            timestamp\n",
            "0      18     4141    Mark Waters  2009-04-24 18:19:40\n",
            "1      65      208      dark hero  2013-05-10 01:41:18\n",
            "2      65      353      dark hero  2013-05-10 01:41:19\n",
            "3      65      521  noir thriller  2013-05-10 01:39:43\n",
            "4      65      592      dark hero  2013-05-10 01:41:18\n"
          ]
        }
      ]
    },
    {
      "cell_type": "code",
      "source": [
        "import os\n",
        "\n",
        "path = \"/content/drive/My Drive/Movie/\"\n",
        "files = os.listdir(path)\n",
        "print(files)\n"
      ],
      "metadata": {
        "colab": {
          "base_uri": "https://localhost:8080/"
        },
        "id": "6SQ96DtecBsk",
        "outputId": "18acdf49-8fe0-4418-9d8f-51c3c20cbd25"
      },
      "execution_count": 7,
      "outputs": [
        {
          "output_type": "stream",
          "name": "stdout",
          "text": [
            "['genome_scores.csv', 'movie.csv', 'rating.csv', 'link.csv', 'genome_tags.csv', 'tag.csv']\n"
          ]
        }
      ]
    },
    {
      "cell_type": "code",
      "source": [
        "import pandas as pd\n",
        "\n",
        "# Define the directory path\n",
        "path = \"/content/drive/My Drive/Movie/\"\n",
        "\n",
        "# Load ratings.csv into a DataFrame\n",
        "ratings_file = \"rating.csv\"  # Note the correct file name here\n",
        "ratings = pd.read_csv(path + ratings_file)\n",
        "\n",
        "# Display the first few rows of the DataFrame\n",
        "print(ratings.head())\n"
      ],
      "metadata": {
        "colab": {
          "base_uri": "https://localhost:8080/"
        },
        "id": "Wx3J3Ia6cb7f",
        "outputId": "5c201e1e-7b1b-4b56-cf9f-78490851037f"
      },
      "execution_count": 8,
      "outputs": [
        {
          "output_type": "stream",
          "name": "stdout",
          "text": [
            "   userId  movieId  rating            timestamp\n",
            "0       1        2     3.5  2005-04-02 23:53:47\n",
            "1       1       29     3.5  2005-04-02 23:31:16\n",
            "2       1       32     3.5  2005-04-02 23:33:39\n",
            "3       1       47     3.5  2005-04-02 23:32:07\n",
            "4       1       50     3.5  2005-04-02 23:29:40\n"
          ]
        }
      ]
    },
    {
      "cell_type": "code",
      "source": [
        "#Doing some Exploratory data analysis\n",
        "import matplotlib.pyplot as plt\n",
        "\n",
        "ratings_per_movie = ratings.groupby('movieId').size().sort_values(ascending=False)\n",
        "plt.figure(figsize=(12, 6))\n",
        "plt.hist(ratings_per_movie, bins=50, edgecolor='k')\n",
        "plt.xlabel('Number of Ratings')\n",
        "plt.ylabel('Number of Movies')\n",
        "plt.title('Number of Ratings per Movie')\n",
        "plt.show()"
      ],
      "metadata": {
        "colab": {
          "base_uri": "https://localhost:8080/",
          "height": 564
        },
        "id": "peVYnbczf86A",
        "outputId": "3b7b1159-ce55-46b3-842f-f506672679c7"
      },
      "execution_count": 9,
      "outputs": [
        {
          "output_type": "display_data",
          "data": {
            "text/plain": [
              "<Figure size 1200x600 with 1 Axes>"
            ],
            "image/png": "[encoded data removed]"
          },
          "metadata": {}
        }
      ]
    },
    {
      "cell_type": "code",
      "source": [
        "# Average Rating per Movie\n",
        "average_rating = ratings.groupby('movieId')['rating'].mean()\n",
        "average_rating = average_rating.sort_values(ascending=False)\n",
        "plt.figure(figsize=(12, 6))\n",
        "plt.hist(average_rating, bins=50, edgecolor='k')\n",
        "plt.xlabel('Average Rating')\n",
        "plt.ylabel('Number of Movies')\n",
        "plt.title('Average Rating per Movie')\n",
        "plt.show()\n"
      ],
      "metadata": {
        "colab": {
          "base_uri": "https://localhost:8080/",
          "height": 564
        },
        "id": "9jYRXCyugABO",
        "outputId": "1e4fa220-5062-4a12-9b8e-91beee5caea8"
      },
      "execution_count": 10,
      "outputs": [
        {
          "output_type": "display_data",
          "data": {
            "text/plain": [
              "<Figure size 1200x600 with 1 Axes>"
            ],
            "image/png": "[encoded data removed]"
          },
          "metadata": {}
        }
      ]
    },
    {
      "cell_type": "code",
      "source": [
        "#Preprocessing\n",
        "import pandas as pd\n",
        "from sklearn.preprocessing import StandardScaler\n",
        "from sklearn.model_selection import train_test_split\n",
        "\n",
        "# Assuming ratings DataFrame is already loaded\n",
        "# and you have a movies.csv file similar to ratings.csv\n",
        "\n",
        "# 1. Load the movies DataFrame\n",
        "movies_file = \"movie.csv\"  # Assuming you have a movies.csv file\n",
        "movies = pd.read_csv(path + movies_file) # Use 'path' defined earlier\n",
        "\n",
        "# 2. Handle Missing Data\n",
        "print(ratings.isnull().sum())\n",
        "print(movies.isnull().sum()) # Now 'movies' is defined\n",
        "ratings = ratings.dropna()\n",
        "movies = movies.dropna()\n",
        "\n",
        "# 3. Data Normalization\n",
        "scaler = StandardScaler()\n",
        "ratings['rating'] = scaler.fit_transform(ratings[['rating']])\n",
        "\n",
        "# 4. Feature Engineering\n",
        "average_rating = ratings.groupby('movieId')['rating'].mean()\n",
        "movies = pd.merge(movies, average_rating, on='movieId', how='left')\n",
        "movies.rename(columns={'rating': 'avg_rating'}, inplace=True)\n",
        "\n",
        "# 5. Data Splitting (Optional)\n",
        "train_data, test_data = train_test_split(ratings, test_size=0.2, random_state=42)\n",
        "\n",
        "# 6. Data Cleaning (if needed)\n",
        "ratings = ratings[ratings['rating'] >= 1]\n",
        "\n",
        "# Print summary or check final datasets\n",
        "print(ratings.head())\n",
        "print(movies.head())"
      ],
      "metadata": {
        "colab": {
          "base_uri": "https://localhost:8080/"
        },
        "id": "ziCDzVHGg8ib",
        "outputId": "7f273762-e361-426b-c051-ac725e2fc590"
      },
      "execution_count": 11,
      "outputs": [
        {
          "output_type": "stream",
          "name": "stdout",
          "text": [
            "userId       0\n",
            "movieId      0\n",
            "rating       0\n",
            "timestamp    0\n",
            "dtype: int64\n",
            "movieId    0\n",
            "title      0\n",
            "genres     0\n",
            "dtype: int64\n",
            "     userId  movieId    rating            timestamp\n",
            "131       1     4993  1.401604  2005-04-02 23:31:22\n",
            "142       1     5952  1.401604  2005-04-02 23:30:19\n",
            "158       1     7153  1.401604  2005-04-02 23:30:33\n",
            "170       1     8507  1.401604  2004-09-10 03:13:47\n",
            "176       2       62  1.401604  2000-11-21 15:29:58\n",
            "   movieId                               title  \\\n",
            "0        1                    Toy Story (1995)   \n",
            "1        2                      Jumanji (1995)   \n",
            "2        3             Grumpier Old Men (1995)   \n",
            "3        4            Waiting to Exhale (1995)   \n",
            "4        5  Father of the Bride Part II (1995)   \n",
            "\n",
            "                                        genres  avg_rating  \n",
            "0  Adventure|Animation|Children|Comedy|Fantasy    0.376155  \n",
            "1                   Adventure|Children|Fantasy   -0.298056  \n",
            "2                               Comedy|Romance   -0.355981  \n",
            "3                         Comedy|Drama|Romance   -0.631314  \n",
            "4                                       Comedy   -0.438158  \n"
          ]
        }
      ]
    },
    {
      "cell_type": "code",
      "source": [],
      "metadata": {
        "id": "-z_Oh8Z5g_za"
      },
      "execution_count": null,
      "outputs": []
    }
  ]
}